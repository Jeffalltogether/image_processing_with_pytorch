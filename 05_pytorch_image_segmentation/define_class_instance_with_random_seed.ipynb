{
 "cells": [
  {
   "cell_type": "code",
   "execution_count": 5,
   "metadata": {},
   "outputs": [
    {
     "name": "stdout",
     "output_type": "stream",
     "text": [
      "[10 20 30] [10 20 30]\n"
     ]
    }
   ],
   "source": [
    "from random import randint, choice, seed\n",
    "import numpy as np\n",
    "\n",
    "\n",
    "\n",
    "class data_augment(object):\n",
    "    \n",
    "    def __init__(self, rs, augmentations):\n",
    "       self.rs = rs\n",
    "\n",
    "    def __call__(self, image, mask):\n",
    "        image_aug = data_augment.augmentations(image)\n",
    "        \n",
    "        mask_aug = data_augment.augmentations(mask)\n",
    "\n",
    "        return image_aug,mask_aug\n",
    "    \n",
    "    @staticmethod\n",
    "    def augmentations(x1):\n",
    "        seed(rs)\n",
    "\n",
    "        def augment_array(x1):\n",
    "            w = np.array([1,10,100])\n",
    "            x0 = choice(w)\n",
    "            return x0 * x1\n",
    "\n",
    "        return augment_array(x1)\n",
    "\n",
    "\n",
    "rs = randint(1, 10001)\n",
    "\n",
    "do_it = data_augment(rs)\n",
    "\n",
    "a = np.array([1,2,3])\n",
    "b = np.array([1,2,3])\n",
    "\n",
    "image_aug,mask_aug = do_it(a,b)\n",
    "print image_aug, mask_aug"
   ]
  },
  {
   "cell_type": "code",
   "execution_count": null,
   "metadata": {
    "collapsed": true
   },
   "outputs": [],
   "source": []
  },
  {
   "cell_type": "code",
   "execution_count": null,
   "metadata": {
    "collapsed": true
   },
   "outputs": [],
   "source": []
  }
 ],
 "metadata": {
  "kernelspec": {
   "display_name": "Python 2",
   "language": "python",
   "name": "python2"
  },
  "language_info": {
   "codemirror_mode": {
    "name": "ipython",
    "version": 2
   },
   "file_extension": ".py",
   "mimetype": "text/x-python",
   "name": "python",
   "nbconvert_exporter": "python",
   "pygments_lexer": "ipython2",
   "version": "2.7.15"
  }
 },
 "nbformat": 4,
 "nbformat_minor": 2
}
