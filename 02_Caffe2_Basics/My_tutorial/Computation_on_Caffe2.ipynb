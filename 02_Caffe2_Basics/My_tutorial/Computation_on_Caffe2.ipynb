{
 "cells": [
  {
   "cell_type": "markdown",
   "metadata": {},
   "source": [
    "# Simple computation on caffe2\n",
    "\n",
    "Objetives:\n",
    "1. Load the MNIST data set\n",
    "2. Construct a fully connected layer function in python and compute on MNIST images \n",
    "3. Construct the same function in Caffe2\n",
    "\n",
    "## Image Datset\n",
    "\n",
    "1. Download MNIST from source http://yann.lecun.com/exdb/mnist/\n",
    "2. unzip files and place them in a folder that is in the python path. Make sure to replace all `.` in the file names with `-` after extraction.\n",
    "3. install the python-mnist library with `$ pip install python-mnist`"
   ]
  },
  {
   "cell_type": "code",
   "execution_count": 1,
   "metadata": {},
   "outputs": [
    {
     "name": "stdout",
     "output_type": "stream",
     "text": [
      "Necessities imported!\n"
     ]
    }
   ],
   "source": [
    "%matplotlib inline\n",
    "import matplotlib.pyplot as plt\n",
    "import numpy as np\n",
    "import os\n",
    "from mnist import MNIST\n",
    "import cProfile\n",
    "\n",
    "from caffe2.python import (\n",
    "    brew,\n",
    "    core,\n",
    "    model_helper,\n",
    "    net_drawer,\n",
    "    optimizer,\n",
    "    visualize,\n",
    "    workspace,\n",
    ")\n",
    "\n",
    "from caffe2.python import net_drawer # for drawing network diagram\n",
    "from IPython import display # for drawing network diagram\n",
    "\n",
    "core.GlobalInit(['caffe2', '--caffe2_log_level=0'])\n",
    "print(\"Necessities imported!\")"
   ]
  },
  {
   "cell_type": "markdown",
   "metadata": {},
   "source": [
    "## Test the mnist data was loaded correctly"
   ]
  },
  {
   "cell_type": "code",
   "execution_count": 2,
   "metadata": {},
   "outputs": [
    {
     "name": "stdout",
     "output_type": "stream",
     "text": [
      "(60000, 784)\n"
     ]
    },
    {
     "data": {
      "text/plain": [
       "<matplotlib.image.AxesImage at 0x7fb4be3aed10>"
      ]
     },
     "execution_count": 2,
     "metadata": {},
     "output_type": "execute_result"
    },
    {
     "data": {
      "image/png": "[encoded data removed]",
      "text/plain": [
       "<Figure size 432x288 with 1 Axes>"
      ]
     },
     "metadata": {},
     "output_type": "display_data"
    }
   ],
   "source": [
    "# Define location of MNIST data on our computer\n",
    "mndata = MNIST('./mnist')\n",
    "\n",
    "# Load the MNIST data\n",
    "images, labels = mndata.load_training()\n",
    "\n",
    "# display an image\n",
    "print np.array(images).shape\n",
    "image = np.array(images[15]).reshape(28,28)\n",
    "plt.imshow(image)"
   ]
  },
  {
   "cell_type": "markdown",
   "metadata": {},
   "source": [
    "## Define a summation function to perform on the MNIST data \n",
    "\n",
    "The model we will eventaully create in Caffe2 will perform the following computation:  \n",
    "$$Y = \\sum_{n=1}^{10} data \\cdot W_i + b_i$$\n",
    "\n",
    "In this case `data` is a $[1 x 784]$ matrix, `W` is a $[10 x 784]$ matrix, and `b` is a $[10 X 1]$ matrix  \n",
    "\n",
    "This function is the summation performed and often used as the input to the activation function in one neuron.  Since `w` has 10 rows, we are defining 10 neurons.  Each summation reuires a bias value `b`, therefore we have defined a vector of length 10 (or 10 x 1 matrix), one for each neuron.  \n",
    "\n",
    "This function can be implemented with the following python function:  "
   ]
  },
  {
   "cell_type": "code",
   "execution_count": 3,
   "metadata": {},
   "outputs": [],
   "source": [
    "# Load the MNIST data\n",
    "mndata = MNIST('./mnist')\n",
    "images, labels = mndata.load_training()\n",
    "\n",
    "# specify the input image data\n",
    "images = np.array(images, dtype = np.float32)\n",
    "MNIST_data = images# [:600,:] # only use 1.0 percent of the 60,000 images because this calculation on the CPU will be slow\n",
    "\n",
    "# # specify the label data as integers [0, 9].\n",
    "# MNIST_labels = np.array(labels, dtype = np.float32)"
   ]
  },
  {
   "cell_type": "code",
   "execution_count": 4,
   "metadata": {},
   "outputs": [
    {
     "name": "stdout",
     "output_type": "stream",
     "text": [
      "         942011 function calls in 1.797 seconds\n",
      "\n",
      "   Ordered by: standard name\n",
      "\n",
      "   ncalls  tottime  percall  cumtime  percall filename:lineno(function)\n",
      "        1    1.054    1.054    1.797    1.797 <ipython-input-4-8154b358d069>:16(python_FC)\n",
      "        1    0.000    0.000    1.797    1.797 <string>:1(<module>)\n",
      "        1    0.000    0.000    0.076    0.076 fromnumeric.py:1190(squeeze)\n",
      "        1    0.000    0.000    0.076    0.076 fromnumeric.py:37(_wrapit)\n",
      "        1    0.000    0.000    0.076    0.076 numeric.py:424(asarray)\n",
      "        1    0.000    0.000    0.000    0.000 {getattr}\n",
      "   471000    0.021    0.000    0.021    0.000 {method 'append' of 'list' objects}\n",
      "        1    0.000    0.000    0.000    0.000 {method 'disable' of '_lsprof.Profiler' objects}\n",
      "   470400    0.635    0.000    0.635    0.000 {method 'dot' of 'numpy.ndarray' objects}\n",
      "        1    0.000    0.000    0.000    0.000 {method 'squeeze' of 'numpy.ndarray' objects}\n",
      "        2    0.084    0.042    0.084    0.042 {numpy.core.multiarray.array}\n",
      "      601    0.002    0.000    0.002    0.000 {range}\n",
      "\n",
      "\n",
      "(600, 784)\n"
     ]
    }
   ],
   "source": [
    "# Load the MNIST data\n",
    "mndata = MNIST('./mnist')\n",
    "images, labels = mndata.load_training()\n",
    "\n",
    "# specify the input image data\n",
    "images = np.array(images, dtype = np.float32)\n",
    "MNIST_data = images[:600,:] # only use 1.0 percent of the 60,000 images because this calculation on the CPU will be slow\n",
    "\n",
    "# define the weights for 784 neurons\n",
    "Weights = np.random.normal(1, 0.1, (28*28, 28*28))\n",
    "\n",
    "# define the bias for 784 neurons\n",
    "bias = np.ones((28*28, 1))\n",
    "\n",
    "# define the summation function\n",
    "def python_FC(data, W, b):\n",
    "    y = []\n",
    "    for i in range(data.shape[0]):\n",
    "        \n",
    "        z = []\n",
    "        for j in range(W.shape[0]):\n",
    "            sigma_dwb = data[i,:].dot(W[j,:]) + b[j,:]\n",
    "            \n",
    "            z.append(sigma_dwb)\n",
    "        \n",
    "        y.append(z)\n",
    "\n",
    "    y = np.squeeze(y) # drop estra dimension\n",
    "\n",
    "    return np.array(y)\n",
    "\n",
    "#Run the function, and let's see how long this takes on the CPU with python profiler cProfile\n",
    "cProfile.run('y = python_FC(MNIST_data, Weights, bias)')\n",
    "\n",
    "print y.shape"
   ]
  },
  {
   "cell_type": "markdown",
   "metadata": {},
   "source": [
    "## Define the same summation function in Caffe2\n",
    "\n",
    "Here we will specify the same step in Caffe2\n",
    "\n",
    "* the data input will be a blob called \"data\"  \n",
    "* the Weight and Bias matrices will be defined as caffe2 operators\n",
    "* the summation function will be defined as a caffe2 operator as well\n"
   ]
  },
  {
   "cell_type": "code",
   "execution_count": 5,
   "metadata": {},
   "outputs": [
    {
     "name": "stdout",
     "output_type": "stream",
     "text": [
      "Current blobs in the workspace: []\n"
     ]
    },
    {
     "data": {
      "image/png": "[encoded data removed]",
      "text/plain": [
       "<IPython.core.display.Image object>"
      ]
     },
     "execution_count": 5,
     "metadata": {
      "image/png": {
       "width": 800
      }
     },
     "output_type": "execute_result"
    }
   ],
   "source": [
    "# reset any blobs in the current workspace\n",
    "workspace.ResetWorkspace()\n",
    "print(\"Current blobs in the workspace: {}\".format(workspace.Blobs()))\n",
    "\n",
    "# feed the data into the workspace as a blob\n",
    "# workspace.FeedBlob(\"label\", MNIST_labels)\n",
    "workspace.FeedBlob(\"data\", MNIST_data) # data must be lead with an index such as: [image, height * width]\n",
    "\n",
    "# Build a simple Logistic function the model workflow\n",
    "# define the name of the model as 'net'\n",
    "net = core.Net(\"my_first_net\")\n",
    "\n",
    "# define the martix of weights\n",
    "W = net.GaussianFill([], [\"W\"], shape=[28*28, 28*28], mean = 1.0, sd = 0.1, run_once=0)\n",
    "\n",
    "# define the vector of biases\n",
    "b = net.ConstantFill([], [\"b\"], shape=[28*28,], value = 1.0, run_once=0)\n",
    "\n",
    "# Define the summation function.  \n",
    "# Here we will use Caffe2's built-in function 'FC', which is an acronym for fully connected layer.\n",
    "Y = net.FC([\"data\", W, b], \"Y\")\n",
    "\n",
    "# in order to initialize the variables W, b, and Y that are a part of the netrowk called 'net', we must\n",
    "# add this net to our workspace. Specificially, this function creates the C++ net object owned by the workspace.\n",
    "workspace.CreateNet(net)\n",
    "\n",
    "# this block of code will allow us to visualize the computations that will occur\n",
    "graph = net_drawer.GetPydotGraph(net, rankdir=\"LR\")\n",
    "display.Image(graph.create_png(), width=800)"
   ]
  },
  {
   "cell_type": "code",
   "execution_count": 6,
   "metadata": {},
   "outputs": [
    {
     "name": "stdout",
     "output_type": "stream",
     "text": [
      "name: \"my_first_net\"\n",
      "op {\n",
      "  output: \"W\"\n",
      "  name: \"\"\n",
      "  type: \"GaussianFill\"\n",
      "  arg {\n",
      "    name: \"run_once\"\n",
      "    i: 0\n",
      "  }\n",
      "  arg {\n",
      "    name: \"shape\"\n",
      "    ints: 784\n",
      "    ints: 784\n",
      "  }\n",
      "  arg {\n",
      "    name: \"sd\"\n",
      "    f: 0.10000000149\n",
      "  }\n",
      "  arg {\n",
      "    name: \"mean\"\n",
      "    f: 1.0\n",
      "  }\n",
      "}\n",
      "op {\n",
      "  output: \"b\"\n",
      "  name: \"\"\n",
      "  type: \"ConstantFill\"\n",
      "  arg {\n",
      "    name: \"run_once\"\n",
      "    i: 0\n",
      "  }\n",
      "  arg {\n",
      "    name: \"shape\"\n",
      "    ints: 784\n",
      "  }\n",
      "  arg {\n",
      "    name: \"value\"\n",
      "    f: 1.0\n",
      "  }\n",
      "}\n",
      "op {\n",
      "  input: \"data\"\n",
      "  input: \"W\"\n",
      "  input: \"b\"\n",
      "  output: \"Y\"\n",
      "  name: \"\"\n",
      "  type: \"FC\"\n",
      "}\n",
      "external_input: \"data\"\n",
      "\n"
     ]
    }
   ],
   "source": [
    "# we can also print the network as a text output, this is also called a prototext\n",
    "print(net.Proto())"
   ]
  },
  {
   "cell_type": "code",
   "execution_count": 7,
   "metadata": {},
   "outputs": [
    {
     "data": {
      "text/plain": [
       "True"
      ]
     },
     "execution_count": 7,
     "metadata": {},
     "output_type": "execute_result"
    }
   ],
   "source": [
    "# this function will instantiates, and run the network.  It is NOT immediately destroy after running.\n",
    "workspace.RunNet(net.Proto().name)"
   ]
  },
  {
   "cell_type": "code",
   "execution_count": 8,
   "metadata": {},
   "outputs": [
    {
     "name": "stdout",
     "output_type": "stream",
     "text": [
      "Blobs in the workspace after execution: [u'W', u'Y', u'b', u'data']\n",
      "W:\n",
      "[[ 2.5531826   0.9326509   2.130118   ...  0.65477246  0.16279626\n",
      "   1.382408  ]\n",
      " [-0.17306376  0.32782823  2.9837909  ...  0.30881548  1.1120602\n",
      "  -0.46155488]\n",
      " [ 0.29869795  0.8892      0.78621    ...  1.8008437   1.4248948\n",
      "   1.0677154 ]\n",
      " ...\n",
      " [ 1.89664     1.8861511   1.7858427  ...  1.5533044   0.6397815\n",
      "   2.7941756 ]\n",
      " [ 1.5188925  -1.7277801   1.5488136  ...  0.991413   -1.0605567\n",
      "   0.95549953]\n",
      " [-0.0089519   2.4290755   2.4715924  ...  1.0316569   1.7580985\n",
      "   0.15862352]]\n",
      "Y:\n",
      "[[26192.684 27464.236 28077.754 ... 32069.566 31991.645 24863.793]\n",
      " [31180.072 33798.727 26777.812 ... 34971.965 31817.094 30545.16 ]\n",
      " [19454.879 22352.184 22442.773 ... 17934.7   18710.52  17393.914]\n",
      " ...\n",
      " [31987.234 34310.074 27241.773 ... 33697.94  32428.443 27227.621]\n",
      " [32017.062 33839.414 26922.297 ... 33995.3   33677.094 30571.035]\n",
      " [22276.438 22614.602 22589.332 ... 25241.078 24367.61  19958.963]]\n",
      "b:\n",
      "[1. 1. 1. 1. 1. 1. 1. 1. 1. 1. 1. 1. 1. 1. 1. 1. 1. 1. 1. 1. 1. 1. 1. 1.\n",
      " 1. 1. 1. 1. 1. 1. 1. 1. 1. 1. 1. 1. 1. 1. 1. 1. 1. 1. 1. 1. 1. 1. 1. 1.\n",
      " 1. 1. 1. 1. 1. 1. 1. 1. 1. 1. 1. 1. 1. 1. 1. 1. 1. 1. 1. 1. 1. 1. 1. 1.\n",
      " 1. 1. 1. 1. 1. 1. 1. 1. 1. 1. 1. 1. 1. 1. 1. 1. 1. 1. 1. 1. 1. 1. 1. 1.\n",
      " 1. 1. 1. 1. 1. 1. 1. 1. 1. 1. 1. 1. 1. 1. 1. 1. 1. 1. 1. 1. 1. 1. 1. 1.\n",
      " 1. 1. 1. 1. 1. 1. 1. 1. 1. 1. 1. 1. 1. 1. 1. 1. 1. 1. 1. 1. 1. 1. 1. 1.\n",
      " 1. 1. 1. 1. 1. 1. 1. 1. 1. 1. 1. 1. 1. 1. 1. 1. 1. 1. 1. 1. 1. 1. 1. 1.\n",
      " 1. 1. 1. 1. 1. 1. 1. 1. 1. 1. 1. 1. 1. 1. 1. 1. 1. 1. 1. 1. 1. 1. 1. 1.\n",
      " 1. 1. 1. 1. 1. 1. 1. 1. 1. 1. 1. 1. 1. 1. 1. 1. 1. 1. 1. 1. 1. 1. 1. 1.\n",
      " 1. 1. 1. 1. 1. 1. 1. 1. 1. 1. 1. 1. 1. 1. 1. 1. 1. 1. 1. 1. 1. 1. 1. 1.\n",
      " 1. 1. 1. 1. 1. 1. 1. 1. 1. 1. 1. 1. 1. 1. 1. 1. 1. 1. 1. 1. 1. 1. 1. 1.\n",
      " 1. 1. 1. 1. 1. 1. 1. 1. 1. 1. 1. 1. 1. 1. 1. 1. 1. 1. 1. 1. 1. 1. 1. 1.\n",
      " 1. 1. 1. 1. 1. 1. 1. 1. 1. 1. 1. 1. 1. 1. 1. 1. 1. 1. 1. 1. 1. 1. 1. 1.\n",
      " 1. 1. 1. 1. 1. 1. 1. 1. 1. 1. 1. 1. 1. 1. 1. 1. 1. 1. 1. 1. 1. 1. 1. 1.\n",
      " 1. 1. 1. 1. 1. 1. 1. 1. 1. 1. 1. 1. 1. 1. 1. 1. 1. 1. 1. 1. 1. 1. 1. 1.\n",
      " 1. 1. 1. 1. 1. 1. 1. 1. 1. 1. 1. 1. 1. 1. 1. 1. 1. 1. 1. 1. 1. 1. 1. 1.\n",
      " 1. 1. 1. 1. 1. 1. 1. 1. 1. 1. 1. 1. 1. 1. 1. 1. 1. 1. 1. 1. 1. 1. 1. 1.\n",
      " 1. 1. 1. 1. 1. 1. 1. 1. 1. 1. 1. 1. 1. 1. 1. 1. 1. 1. 1. 1. 1. 1. 1. 1.\n",
      " 1. 1. 1. 1. 1. 1. 1. 1. 1. 1. 1. 1. 1. 1. 1. 1. 1. 1. 1. 1. 1. 1. 1. 1.\n",
      " 1. 1. 1. 1. 1. 1. 1. 1. 1. 1. 1. 1. 1. 1. 1. 1. 1. 1. 1. 1. 1. 1. 1. 1.\n",
      " 1. 1. 1. 1. 1. 1. 1. 1. 1. 1. 1. 1. 1. 1. 1. 1. 1. 1. 1. 1. 1. 1. 1. 1.\n",
      " 1. 1. 1. 1. 1. 1. 1. 1. 1. 1. 1. 1. 1. 1. 1. 1. 1. 1. 1. 1. 1. 1. 1. 1.\n",
      " 1. 1. 1. 1. 1. 1. 1. 1. 1. 1. 1. 1. 1. 1. 1. 1. 1. 1. 1. 1. 1. 1. 1. 1.\n",
      " 1. 1. 1. 1. 1. 1. 1. 1. 1. 1. 1. 1. 1. 1. 1. 1. 1. 1. 1. 1. 1. 1. 1. 1.\n",
      " 1. 1. 1. 1. 1. 1. 1. 1. 1. 1. 1. 1. 1. 1. 1. 1. 1. 1. 1. 1. 1. 1. 1. 1.\n",
      " 1. 1. 1. 1. 1. 1. 1. 1. 1. 1. 1. 1. 1. 1. 1. 1. 1. 1. 1. 1. 1. 1. 1. 1.\n",
      " 1. 1. 1. 1. 1. 1. 1. 1. 1. 1. 1. 1. 1. 1. 1. 1. 1. 1. 1. 1. 1. 1. 1. 1.\n",
      " 1. 1. 1. 1. 1. 1. 1. 1. 1. 1. 1. 1. 1. 1. 1. 1. 1. 1. 1. 1. 1. 1. 1. 1.\n",
      " 1. 1. 1. 1. 1. 1. 1. 1. 1. 1. 1. 1. 1. 1. 1. 1. 1. 1. 1. 1. 1. 1. 1. 1.\n",
      " 1. 1. 1. 1. 1. 1. 1. 1. 1. 1. 1. 1. 1. 1. 1. 1. 1. 1. 1. 1. 1. 1. 1. 1.\n",
      " 1. 1. 1. 1. 1. 1. 1. 1. 1. 1. 1. 1. 1. 1. 1. 1. 1. 1. 1. 1. 1. 1. 1. 1.\n",
      " 1. 1. 1. 1. 1. 1. 1. 1. 1. 1. 1. 1. 1. 1. 1. 1. 1. 1. 1. 1. 1. 1. 1. 1.\n",
      " 1. 1. 1. 1. 1. 1. 1. 1. 1. 1. 1. 1. 1. 1. 1. 1.]\n",
      "data:\n",
      "[[0. 0. 0. ... 0. 0. 0.]\n",
      " [0. 0. 0. ... 0. 0. 0.]\n",
      " [0. 0. 0. ... 0. 0. 0.]\n",
      " ...\n",
      " [0. 0. 0. ... 0. 0. 0.]\n",
      " [0. 0. 0. ... 0. 0. 0.]\n",
      " [0. 0. 0. ... 0. 0. 0.]]\n"
     ]
    }
   ],
   "source": [
    "# If everything looks good after that run, we can look at the variables in our workspace\n",
    "print(\"Blobs in the workspace after execution: {}\".format(workspace.Blobs()))\n",
    "for name in workspace.Blobs():\n",
    "    print(\"{}:\\n{}\".format(name, workspace.FetchBlob(name)))"
   ]
  },
  {
   "cell_type": "code",
   "execution_count": 9,
   "metadata": {},
   "outputs": [
    {
     "data": {
      "text/plain": [
       "<matplotlib.image.AxesImage at 0x7fb4be32b6d0>"
      ]
     },
     "execution_count": 9,
     "metadata": {},
     "output_type": "execute_result"
    },
    {
     "data": {
      "image/png": "[encoded data removed]",
      "text/plain": [
       "<Figure size 432x288 with 1 Axes>"
      ]
     },
     "metadata": {},
     "output_type": "display_data"
    }
   ],
   "source": [
    "# Here is one of the numbers in our input data matrix\n",
    "image = np.array(images[15]).reshape(28,28)\n",
    "plt.imshow(image)"
   ]
  },
  {
   "cell_type": "code",
   "execution_count": 10,
   "metadata": {},
   "outputs": [
    {
     "data": {
      "text/plain": [
       "<matplotlib.image.AxesImage at 0x7fb4bc66c0d0>"
      ]
     },
     "execution_count": 10,
     "metadata": {},
     "output_type": "execute_result"
    },
    {
     "data": {
      "image/png": "[encoded data removed]",
      "text/plain": [
       "<Figure size 432x288 with 1 Axes>"
      ]
     },
     "metadata": {},
     "output_type": "display_data"
    }
   ],
   "source": [
    "# We can grab the 784 summation functions performed on this same image, and plot them as\n",
    "# an image.  Remember, each pixel in this image is the result of the original image dotted with an\n",
    "# image of random noise and then summed (including a small bias).  Each pixel in this image \n",
    "# is one of the 784 calculations.\n",
    "neuron = workspace.FetchBlob(\"Y\")\n",
    "neuron = np.array(neuron[15]).reshape(28,28)\n",
    "plt.imshow(neuron)"
   ]
  },
  {
   "cell_type": "code",
   "execution_count": null,
   "metadata": {},
   "outputs": [],
   "source": []
  }
 ],
 "metadata": {
  "kernelspec": {
   "display_name": "Python 2",
   "language": "python",
   "name": "python2"
  },
  "language_info": {
   "codemirror_mode": {
    "name": "ipython",
    "version": 2
   },
   "file_extension": ".py",
   "mimetype": "text/x-python",
   "name": "python",
   "nbconvert_exporter": "python",
   "pygments_lexer": "ipython2",
   "version": "2.7.15"
  }
 },
 "nbformat": 4,
 "nbformat_minor": 2
}
